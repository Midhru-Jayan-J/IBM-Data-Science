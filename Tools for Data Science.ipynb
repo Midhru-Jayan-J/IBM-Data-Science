{
 "cells": [
  {
   "cell_type": "markdown",
   "id": "5913bb08-8290-4747-bcfd-89a29de824a8",
   "metadata": {},
   "source": [
    "# Data Science Tools and Ecosystem"
   ]
  },
  {
   "cell_type": "markdown",
   "id": "aea6351c-1ab9-42bb-bbaa-909cbeed91c2",
   "metadata": {},
   "source": [
    "**In this notebook, Data Science Tools and Ecosystem are summarized.**"
   ]
  },
  {
   "cell_type": "markdown",
   "id": "104255d2-ec44-44e0-b65b-cffc8036383c",
   "metadata": {},
   "source": [
    "Some of the popular languages that Data Scientists use are:<ol>\n",
    "    <li>Python\n",
    "    <li>R\n",
    "    <li>SQL\n",
    "    <li>Scala\n",
    "<ol>"
   ]
  },
  {
   "cell_type": "markdown",
   "id": "0eeb4298-4779-4c11-99a2-e2685079b72d",
   "metadata": {},
   "source": [
    "Some of the commonly used libraries used by Data Scientists include:\n",
    "\n",
    "    1.Pandas\n",
    "    2.Numpy\n",
    "    3.Matlplotlib\n",
    "    4.ggplot2"
   ]
  },
  {
   "cell_type": "markdown",
   "id": "60692576-2d4b-498c-8d9a-ca559397e3a3",
   "metadata": {},
   "source": [
    "|Data Science Tools|\n",
    "|-------------------|\n",
    "|Jupyter|\n",
    "|RStudio|\n",
    "|Apache Zepplin|\n"
   ]
  },
  {
   "cell_type": "markdown",
   "id": "4d144725-60b5-4acd-b56b-a85ebac30292",
   "metadata": {},
   "source": [
    "### Below are a few examples of evaluating arithmetic expressions in Python"
   ]
  },
  {
   "cell_type": "code",
   "execution_count": 1,
   "id": "6f03549e-b7cd-4d62-97d7-83377554d004",
   "metadata": {
    "tags": []
   },
   "outputs": [
    {
     "data": {
      "text/plain": [
       "17"
      ]
     },
     "execution_count": 1,
     "metadata": {},
     "output_type": "execute_result"
    }
   ],
   "source": [
    "#This a simple arithmetic expression to mutiply then add integers\n",
    "(3*4)+5"
   ]
  },
  {
   "cell_type": "code",
   "execution_count": 3,
   "id": "6d8a545f-e123-4c0f-acfd-1ef8832a72b3",
   "metadata": {
    "tags": []
   },
   "outputs": [
    {
     "data": {
      "text/plain": [
       "3.3333333333333335"
      ]
     },
     "execution_count": 3,
     "metadata": {},
     "output_type": "execute_result"
    }
   ],
   "source": [
    "#This will convert 200 minutes to hours by diving by 60\n",
    "200/60"
   ]
  },
  {
   "cell_type": "markdown",
   "id": "a8f72b71-33b9-42be-9d78-d6a6b825d573",
   "metadata": {},
   "source": [
    "**-List Popular Languages for Data Science<br>\n",
    "-List Open Source IDE for Data Science<br>\n",
    "-List the commonly used libraries for Data Science<br>\n",
    "-Work With Jupyter Notebook**\n"
   ]
  },
  {
   "cell_type": "markdown",
   "id": "65a27401-fb80-41c5-a714-83c34b896a84",
   "metadata": {},
   "source": [
    "## Author:\n",
    "Midhru Jayan J"
   ]
  },
  {
   "cell_type": "code",
   "execution_count": null,
   "id": "ebcc5d70-c3bd-43e4-b806-d9c444d6f98b",
   "metadata": {},
   "outputs": [],
   "source": []
  }
 ],
 "metadata": {
  "kernelspec": {
   "display_name": "Python",
   "language": "python",
   "name": "conda-env-python-py"
  },
  "language_info": {
   "codemirror_mode": {
    "name": "ipython",
    "version": 3
   },
   "file_extension": ".py",
   "mimetype": "text/x-python",
   "name": "python",
   "nbconvert_exporter": "python",
   "pygments_lexer": "ipython3",
   "version": "3.7.12"
  }
 },
 "nbformat": 4,
 "nbformat_minor": 5
}
